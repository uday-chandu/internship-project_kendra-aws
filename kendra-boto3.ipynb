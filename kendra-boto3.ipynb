{
 "cells": [
  {
   "cell_type": "markdown",
   "metadata": {},
   "source": [
    "# Amazon Kendra with Boto3 library"
   ]
  },
  {
   "cell_type": "markdown",
   "metadata": {},
   "source": [
    "###### Importing boto3 library"
   ]
  },
  {
   "cell_type": "code",
   "execution_count": 1,
   "metadata": {},
   "outputs": [],
   "source": [
    "import boto3"
   ]
  },
  {
   "cell_type": "code",
   "execution_count": 2,
   "metadata": {},
   "outputs": [],
   "source": [
    "client=boto3.client('kendra')"
   ]
  },
  {
   "cell_type": "code",
   "execution_count": 3,
   "metadata": {},
   "outputs": [
    {
     "name": "stdout",
     "output_type": "stream",
     "text": [
      "1.13.11\n"
     ]
    }
   ],
   "source": [
    "print(boto3.__version__)"
   ]
  },
  {
   "cell_type": "markdown",
   "metadata": {},
   "source": [
    "###### creating an index,while creating, the user has to provide a single parameter from the collection of edition,rolearn,encrypted key and description"
   ]
  },
  {
   "cell_type": "code",
   "execution_count": 4,
   "metadata": {},
   "outputs": [],
   "source": [
    "index_response = client.create_index(\n",
    "    Name='politicsindex',\n",
    "    Edition='DEVELOPER_EDITION',\n",
    "    RoleArn='arn:aws:iam::353664287185:role/kendra_project2',\n",
    "#     ServerSideEncryptionConfiguration={\n",
    "#         'KmsKeyId': 'string'\n",
    "#     },\n",
    "    Description=\"politics data index\"\n",
    ")"
   ]
  },
  {
   "cell_type": "code",
   "execution_count": 5,
   "metadata": {
    "scrolled": true
   },
   "outputs": [
    {
     "data": {
      "text/plain": [
       "{'Id': 'fa180e63-02a9-4c27-9c5f-86236f8ea1ad',\n",
       " 'ResponseMetadata': {'RequestId': 'a9be9115-7188-40be-b002-93e984e8b898',\n",
       "  'HTTPStatusCode': 200,\n",
       "  'HTTPHeaders': {'x-amzn-requestid': 'a9be9115-7188-40be-b002-93e984e8b898',\n",
       "   'content-type': 'application/x-amz-json-1.1',\n",
       "   'content-length': '45',\n",
       "   'date': 'Mon, 29 Jun 2020 03:53:05 GMT'},\n",
       "  'RetryAttempts': 0}}"
      ]
     },
     "execution_count": 5,
     "metadata": {},
     "output_type": "execute_result"
    }
   ],
   "source": [
    "index_response"
   ]
  },
  {
   "cell_type": "code",
   "execution_count": 7,
   "metadata": {},
   "outputs": [
    {
     "name": "stdout",
     "output_type": "stream",
     "text": [
      "fa180e63-02a9-4c27-9c5f-86236f8ea1ad\n"
     ]
    }
   ],
   "source": [
    "index_id=index_response['Id']\n",
    "print(index_id)"
   ]
  },
  {
   "cell_type": "markdown",
   "metadata": {},
   "source": [
    "###### Describing the created index and looking at its status"
   ]
  },
  {
   "cell_type": "code",
   "execution_count": 8,
   "metadata": {},
   "outputs": [],
   "source": [
    "describe_index_response = client.describe_index(\n",
    "    Id=index_id\n",
    ")"
   ]
  },
  {
   "cell_type": "code",
   "execution_count": 9,
   "metadata": {},
   "outputs": [
    {
     "data": {
      "text/plain": [
       "{'Name': 'politicsindex',\n",
       " 'Id': 'fa180e63-02a9-4c27-9c5f-86236f8ea1ad',\n",
       " 'Edition': 'DEVELOPER_EDITION',\n",
       " 'RoleArn': 'arn:aws:iam::353664287185:role/kendra_project2',\n",
       " 'Status': 'ACTIVE',\n",
       " 'Description': 'politics data index',\n",
       " 'CreatedAt': datetime.datetime(2020, 6, 29, 9, 23, 5, 387000, tzinfo=tzlocal()),\n",
       " 'UpdatedAt': datetime.datetime(2020, 6, 29, 9, 23, 5, 387000, tzinfo=tzlocal()),\n",
       " 'DocumentMetadataConfigurations': [{'Name': '_authors',\n",
       "   'Type': 'STRING_LIST_VALUE',\n",
       "   'Search': {'Facetable': False, 'Searchable': False, 'Displayable': False}},\n",
       "  {'Name': '_category',\n",
       "   'Type': 'STRING_VALUE',\n",
       "   'Relevance': {'Importance': 1, 'ValueImportanceMap': {}},\n",
       "   'Search': {'Facetable': False, 'Searchable': False, 'Displayable': False}},\n",
       "  {'Name': '_created_at',\n",
       "   'Type': 'DATE_VALUE',\n",
       "   'Relevance': {'Freshness': False,\n",
       "    'Importance': 1,\n",
       "    'Duration': '25920000s',\n",
       "    'RankOrder': 'ASCENDING'},\n",
       "   'Search': {'Facetable': False, 'Searchable': False, 'Displayable': False}},\n",
       "  {'Name': '_data_source_id',\n",
       "   'Type': 'STRING_VALUE',\n",
       "   'Relevance': {'Importance': 1, 'ValueImportanceMap': {}},\n",
       "   'Search': {'Facetable': False, 'Searchable': False, 'Displayable': False}},\n",
       "  {'Name': '_document_title',\n",
       "   'Type': 'STRING_VALUE',\n",
       "   'Relevance': {'Importance': 2, 'ValueImportanceMap': {}},\n",
       "   'Search': {'Facetable': False, 'Searchable': True, 'Displayable': True}},\n",
       "  {'Name': '_file_type',\n",
       "   'Type': 'STRING_VALUE',\n",
       "   'Relevance': {'Importance': 1, 'ValueImportanceMap': {}},\n",
       "   'Search': {'Facetable': False, 'Searchable': False, 'Displayable': False}},\n",
       "  {'Name': '_last_updated_at',\n",
       "   'Type': 'DATE_VALUE',\n",
       "   'Relevance': {'Freshness': False,\n",
       "    'Importance': 1,\n",
       "    'Duration': '25920000s',\n",
       "    'RankOrder': 'ASCENDING'},\n",
       "   'Search': {'Facetable': False, 'Searchable': False, 'Displayable': False}},\n",
       "  {'Name': '_source_uri',\n",
       "   'Type': 'STRING_VALUE',\n",
       "   'Relevance': {'Importance': 1, 'ValueImportanceMap': {}},\n",
       "   'Search': {'Facetable': False, 'Searchable': False, 'Displayable': True}},\n",
       "  {'Name': '_version',\n",
       "   'Type': 'STRING_VALUE',\n",
       "   'Relevance': {'Importance': 1, 'ValueImportanceMap': {}},\n",
       "   'Search': {'Facetable': False, 'Searchable': False, 'Displayable': False}},\n",
       "  {'Name': '_view_count',\n",
       "   'Type': 'LONG_VALUE',\n",
       "   'Relevance': {'Importance': 1, 'RankOrder': 'ASCENDING'},\n",
       "   'Search': {'Facetable': False, 'Searchable': False, 'Displayable': False}}],\n",
       " 'IndexStatistics': {'FaqStatistics': {'IndexedQuestionAnswersCount': 0},\n",
       "  'TextDocumentStatistics': {'IndexedTextDocumentsCount': 0,\n",
       "   'IndexedTextBytes': 0}},\n",
       " 'CapacityUnits': {'StorageCapacityUnits': 0, 'QueryCapacityUnits': 0},\n",
       " 'ResponseMetadata': {'RequestId': 'd6cd138a-374e-4abb-a92e-f91c47626bf3',\n",
       "  'HTTPStatusCode': 200,\n",
       "  'HTTPHeaders': {'x-amzn-requestid': 'd6cd138a-374e-4abb-a92e-f91c47626bf3',\n",
       "   'content-type': 'application/x-amz-json-1.1',\n",
       "   'content-length': '2207',\n",
       "   'date': 'Mon, 29 Jun 2020 04:06:40 GMT'},\n",
       "  'RetryAttempts': 1}}"
      ]
     },
     "execution_count": 9,
     "metadata": {},
     "output_type": "execute_result"
    }
   ],
   "source": [
    "describe_index_response"
   ]
  },
  {
   "cell_type": "markdown",
   "metadata": {},
   "source": [
    "###### creating a data source for the index,in our case we're providing the s3 bucket"
   ]
  },
  {
   "cell_type": "code",
   "execution_count": 10,
   "metadata": {},
   "outputs": [],
   "source": [
    "data_source_response = client.create_data_source(\n",
    "    Name='politicsdata',\n",
    "    IndexId=index_id,\n",
    "    Type='S3',\n",
    "    Configuration={\n",
    "        'S3Configuration': {\n",
    "            'BucketName': 'politics-text-data'\n",
    "        }\n",
    "    },\n",
    "        Description=\"data source for politics index\",\n",
    "        RoleArn='arn:aws:iam::353664287185:role/kendra_project2'\n",
    "    \n",
    ")"
   ]
  },
  {
   "cell_type": "code",
   "execution_count": 11,
   "metadata": {},
   "outputs": [
    {
     "data": {
      "text/plain": [
       "{'Id': 'bbfa173d-95da-4647-b0bd-8824179f26d8',\n",
       " 'ResponseMetadata': {'RequestId': 'd1852f40-3d34-436d-9344-bd38b2b0d4ff',\n",
       "  'HTTPStatusCode': 200,\n",
       "  'HTTPHeaders': {'x-amzn-requestid': 'd1852f40-3d34-436d-9344-bd38b2b0d4ff',\n",
       "   'content-type': 'application/x-amz-json-1.1',\n",
       "   'content-length': '45',\n",
       "   'date': 'Mon, 29 Jun 2020 04:06:57 GMT'},\n",
       "  'RetryAttempts': 1}}"
      ]
     },
     "execution_count": 11,
     "metadata": {},
     "output_type": "execute_result"
    }
   ],
   "source": [
    "data_source_response"
   ]
  },
  {
   "cell_type": "code",
   "execution_count": 12,
   "metadata": {},
   "outputs": [],
   "source": [
    "data_source_id=data_source_response['Id']"
   ]
  },
  {
   "cell_type": "markdown",
   "metadata": {},
   "source": [
    "###### describing the created data source by passing the index_id and the data source id"
   ]
  },
  {
   "cell_type": "code",
   "execution_count": 13,
   "metadata": {},
   "outputs": [],
   "source": [
    "describe_data_source_response = client.describe_data_source(\n",
    "    Id=data_source_id,\n",
    "    IndexId=index_id\n",
    ")"
   ]
  },
  {
   "cell_type": "code",
   "execution_count": 14,
   "metadata": {},
   "outputs": [
    {
     "data": {
      "text/plain": [
       "{'Id': 'bbfa173d-95da-4647-b0bd-8824179f26d8',\n",
       " 'IndexId': 'fa180e63-02a9-4c27-9c5f-86236f8ea1ad',\n",
       " 'Name': 'politicsdata',\n",
       " 'Type': 'S3',\n",
       " 'Configuration': {'S3Configuration': {'BucketName': 'politics-text-data'}},\n",
       " 'CreatedAt': datetime.datetime(2020, 6, 29, 9, 36, 57, 687000, tzinfo=tzlocal()),\n",
       " 'UpdatedAt': datetime.datetime(2020, 6, 29, 9, 36, 57, 687000, tzinfo=tzlocal()),\n",
       " 'Description': 'data source for politics index',\n",
       " 'Status': 'ACTIVE',\n",
       " 'Schedule': '',\n",
       " 'RoleArn': 'arn:aws:iam::353664287185:role/kendra_project2',\n",
       " 'ResponseMetadata': {'RequestId': '174f2dd2-a68d-4ca6-9c72-14d168ce0196',\n",
       "  'HTTPStatusCode': 200,\n",
       "  'HTTPHeaders': {'x-amzn-requestid': '174f2dd2-a68d-4ca6-9c72-14d168ce0196',\n",
       "   'content-type': 'application/x-amz-json-1.1',\n",
       "   'content-length': '396',\n",
       "   'date': 'Mon, 29 Jun 2020 04:08:20 GMT'},\n",
       "  'RetryAttempts': 0}}"
      ]
     },
     "execution_count": 14,
     "metadata": {},
     "output_type": "execute_result"
    }
   ],
   "source": [
    "describe_data_source_response"
   ]
  },
  {
   "cell_type": "markdown",
   "metadata": {},
   "source": [
    "###### Listing out all the data sources under an index"
   ]
  },
  {
   "cell_type": "code",
   "execution_count": 15,
   "metadata": {},
   "outputs": [],
   "source": [
    "list_data_source_response = client.list_data_sources(\n",
    "    IndexId=index_id\n",
    ")"
   ]
  },
  {
   "cell_type": "code",
   "execution_count": 16,
   "metadata": {},
   "outputs": [
    {
     "data": {
      "text/plain": [
       "{'SummaryItems': [{'Name': 'politicsdata',\n",
       "   'Id': 'bbfa173d-95da-4647-b0bd-8824179f26d8',\n",
       "   'Type': 'S3',\n",
       "   'CreatedAt': datetime.datetime(2020, 6, 29, 9, 36, 57, 687000, tzinfo=tzlocal()),\n",
       "   'UpdatedAt': datetime.datetime(2020, 6, 29, 9, 36, 57, 687000, tzinfo=tzlocal()),\n",
       "   'Status': 'ACTIVE'}],\n",
       " 'ResponseMetadata': {'RequestId': '9e617e72-900d-42ec-b25c-1406f54b0e9c',\n",
       "  'HTTPStatusCode': 200,\n",
       "  'HTTPHeaders': {'x-amzn-requestid': '9e617e72-900d-42ec-b25c-1406f54b0e9c',\n",
       "   'content-type': 'application/x-amz-json-1.1',\n",
       "   'content-length': '174',\n",
       "   'date': 'Mon, 29 Jun 2020 04:08:29 GMT'},\n",
       "  'RetryAttempts': 1}}"
      ]
     },
     "execution_count": 16,
     "metadata": {},
     "output_type": "execute_result"
    }
   ],
   "source": [
    "list_data_source_response"
   ]
  },
  {
   "cell_type": "markdown",
   "metadata": {},
   "source": [
    "###### syncing the documents provided in the bucket so as to train the model,we start the data source sync job"
   ]
  },
  {
   "cell_type": "code",
   "execution_count": 17,
   "metadata": {},
   "outputs": [],
   "source": [
    "data_source_sync_job_response = client.start_data_source_sync_job(\n",
    "    Id=data_source_id,\n",
    "    IndexId=index_id\n",
    ")"
   ]
  },
  {
   "cell_type": "code",
   "execution_count": 18,
   "metadata": {},
   "outputs": [
    {
     "data": {
      "text/plain": [
       "{'ExecutionId': '2f84719d-a6c4-47f0-a89a-b5a38297e0b2',\n",
       " 'ResponseMetadata': {'RequestId': 'a8ea84a3-8437-447d-aef3-7c0825e0910d',\n",
       "  'HTTPStatusCode': 200,\n",
       "  'HTTPHeaders': {'x-amzn-requestid': 'a8ea84a3-8437-447d-aef3-7c0825e0910d',\n",
       "   'content-type': 'application/x-amz-json-1.1',\n",
       "   'content-length': '54',\n",
       "   'date': 'Mon, 29 Jun 2020 04:08:36 GMT'},\n",
       "  'RetryAttempts': 0}}"
      ]
     },
     "execution_count": 18,
     "metadata": {},
     "output_type": "execute_result"
    }
   ],
   "source": [
    "data_source_sync_job_response"
   ]
  },
  {
   "cell_type": "markdown",
   "metadata": {},
   "source": [
    "###### list of jobs created and their status"
   ]
  },
  {
   "cell_type": "code",
   "execution_count": 19,
   "metadata": {},
   "outputs": [],
   "source": [
    "list_of_sync_jobs_response = client.list_data_source_sync_jobs(\n",
    "    Id=data_source_id,\n",
    "    IndexId=index_id,\n",
    "    StatusFilter='SUCCEEDED'\n",
    ")"
   ]
  },
  {
   "cell_type": "code",
   "execution_count": 20,
   "metadata": {},
   "outputs": [
    {
     "data": {
      "text/plain": [
       "{'History': [{'ExecutionId': '2f84719d-a6c4-47f0-a89a-b5a38297e0b2',\n",
       "   'StartTime': datetime.datetime(2020, 6, 29, 9, 38, 36, 642000, tzinfo=tzlocal()),\n",
       "   'EndTime': datetime.datetime(2020, 6, 29, 12, 12, 11, 49000, tzinfo=tzlocal()),\n",
       "   'Status': 'SUCCEEDED',\n",
       "   'Metrics': {'DocumentsAdded': '417',\n",
       "    'DocumentsModified': '0',\n",
       "    'DocumentsDeleted': '0',\n",
       "    'DocumentsFailed': '0',\n",
       "    'DocumentsScanned': '417'}}],\n",
       " 'ResponseMetadata': {'RequestId': '3fc78688-7480-4784-917c-72e60a0fb094',\n",
       "  'HTTPStatusCode': 200,\n",
       "  'HTTPHeaders': {'x-amzn-requestid': '3fc78688-7480-4784-917c-72e60a0fb094',\n",
       "   'content-type': 'application/x-amz-json-1.1',\n",
       "   'content-length': '274',\n",
       "   'date': 'Mon, 29 Jun 2020 07:08:48 GMT'},\n",
       "  'RetryAttempts': 1}}"
      ]
     },
     "execution_count": 20,
     "metadata": {},
     "output_type": "execute_result"
    }
   ],
   "source": [
    "list_of_sync_jobs_response"
   ]
  },
  {
   "cell_type": "markdown",
   "metadata": {},
   "source": [
    "###### to stop a job"
   ]
  },
  {
   "cell_type": "code",
   "execution_count": 21,
   "metadata": {},
   "outputs": [],
   "source": [
    "stop_sync_job_response = client.stop_data_source_sync_job(\n",
    "    Id=data_source_id,\n",
    "    IndexId=index_id\n",
    ")"
   ]
  },
  {
   "cell_type": "code",
   "execution_count": 22,
   "metadata": {},
   "outputs": [
    {
     "data": {
      "text/plain": [
       "{'ResponseMetadata': {'RequestId': '8d6044ed-e8b2-4b5a-8021-552000e40a8d',\n",
       "  'HTTPStatusCode': 200,\n",
       "  'HTTPHeaders': {'x-amzn-requestid': '8d6044ed-e8b2-4b5a-8021-552000e40a8d',\n",
       "   'content-type': 'application/x-amz-json-1.1',\n",
       "   'content-length': '0',\n",
       "   'date': 'Mon, 29 Jun 2020 07:10:45 GMT'},\n",
       "  'RetryAttempts': 0}}"
      ]
     },
     "execution_count": 22,
     "metadata": {},
     "output_type": "execute_result"
    }
   ],
   "source": [
    "stop_sync_job_response"
   ]
  },
  {
   "cell_type": "markdown",
   "metadata": {},
   "source": [
    "###### Ask a question to aws kendra by passing the index_id and the query, this prints out the number of solutions availble related to the raised query\n",
    "###### refer:https://docs.aws.amazon.com/kendra/latest/dg/searching-example.html#searching-index-sdk"
   ]
  },
  {
   "cell_type": "markdown",
   "metadata": {},
   "source": [
    "# Query1"
   ]
  },
  {
   "cell_type": "code",
   "execution_count": 23,
   "metadata": {},
   "outputs": [
    {
     "data": {
      "text/plain": [
       "{'QueryId': '9d97a18e-3d92-4c47-8a61-1bf0a202e5eb',\n",
       " 'ResultItems': [{'Id': '9d97a18e-3d92-4c47-8a61-1bf0a202e5eb-d9f47253-ab15-46f4-b757-d6541725d5c8',\n",
       "   'Type': 'ANSWER',\n",
       "   'AdditionalAttributes': [{'Key': 'AnswerText',\n",
       "     'ValueType': 'TEXT_WITH_HIGHLIGHTS_VALUE',\n",
       "     'Value': {'TextWithHighlightsValue': {'Text': '\"My concern is that, whilst the Labour Party and the Conservative Party will take a constructive approach to the debate, right-wing political parties, picking up on statements like `burden to Britain\\' will exploit this and create a lot of fear and uncertainty\". It is precisely that concern - and the possible suggestion the issue is playing to the far right\\'s racist agenda - that will provoke strong reactions from many concerned with this issue. The challenge for the big parties is to ensure they can engage in the debate during the cut and thrust of a general election while also avoiding that trap.',\n",
       "       'Highlights': [{'BeginOffset': 132,\n",
       "         'EndOffset': 141,\n",
       "         'TopAnswer': False},\n",
       "        {'BeginOffset': 142, 'EndOffset': 149, 'TopAnswer': False},\n",
       "        {'BeginOffset': 475, 'EndOffset': 482, 'TopAnswer': False}]}}}],\n",
       "   'DocumentId': 's3://politics-text-data/334.txt',\n",
       "   'DocumentTitle': {'Text': '334'},\n",
       "   'DocumentExcerpt': {'Text': '\"My concern is that, whilst the Labour Party and the Conservative Party will take a constructive approach to the debate, right-wing political parties, picking up on statements like `burden to Britain\\' will exploit this and create a lot of fear and uncertainty\". It is precisely that concern - and the',\n",
       "    'Highlights': [{'BeginOffset': 0, 'EndOffset': 300, 'TopAnswer': False}]},\n",
       "   'DocumentURI': 'https://s3.us-west-2.amazonaws.com/politics-text-data/334.txt',\n",
       "   'DocumentAttributes': []},\n",
       "  {'Id': '9d97a18e-3d92-4c47-8a61-1bf0a202e5eb-93ac7c63-bded-4bc0-8533-790545637eea',\n",
       "   'Type': 'DOCUMENT',\n",
       "   'AdditionalAttributes': [],\n",
       "   'DocumentId': 's3://politics-text-data/417.txt',\n",
       "   'DocumentTitle': {'Text': '417', 'Highlights': []},\n",
       "   'DocumentExcerpt': {'Text': '...Lib Dems unveil election slogan\\n\\nThe Liberal Democrats will present themselves as \"the real alternative\" in the forthcoming general election campaign, Charles Kennedy has said.\\n\\nUnveiling the slogan at the party\\'s...',\n",
       "    'Highlights': [{'BeginOffset': 63, 'EndOffset': 70, 'TopAnswer': False}]},\n",
       "   'DocumentURI': 'https://s3.us-west-2.amazonaws.com/politics-text-data/417.txt',\n",
       "   'DocumentAttributes': [{'Key': '_source_uri',\n",
       "     'Value': {'StringValue': 'https://s3.us-west-2.amazonaws.com/politics-text-data/417.txt'}}]},\n",
       "  {'Id': '9d97a18e-3d92-4c47-8a61-1bf0a202e5eb-2ed0a1be-e75c-4f70-a1ef-dddcc894c5b9',\n",
       "   'Type': 'DOCUMENT',\n",
       "   'AdditionalAttributes': [],\n",
       "   'DocumentId': 's3://politics-text-data/111.txt',\n",
       "   'DocumentTitle': {'Text': '111', 'Highlights': []},\n",
       "   'DocumentExcerpt': {'Text': '...Under the present electoral system, people must work together, and small parties have no hope of representation. Last summer, UKIP achieved a major advance, partly and only partly due to Kilroy...',\n",
       "    'Highlights': [{'BeginOffset': 13, 'EndOffset': 20, 'TopAnswer': False},\n",
       "     {'BeginOffset': 76, 'EndOffset': 83, 'TopAnswer': False}]},\n",
       "   'DocumentURI': 'https://s3.us-west-2.amazonaws.com/politics-text-data/111.txt',\n",
       "   'DocumentAttributes': [{'Key': '_source_uri',\n",
       "     'Value': {'StringValue': 'https://s3.us-west-2.amazonaws.com/politics-text-data/111.txt'}}]},\n",
       "  {'Id': '9d97a18e-3d92-4c47-8a61-1bf0a202e5eb-58875c6b-a289-4af6-94be-38e2e582a44f',\n",
       "   'Type': 'DOCUMENT',\n",
       "   'AdditionalAttributes': [],\n",
       "   'DocumentId': 's3://politics-text-data/334.txt',\n",
       "   'DocumentTitle': {'Text': '334', 'Highlights': []},\n",
       "   'DocumentExcerpt': {'Text': \"...My concern is that, whilst the Labour Party and the Conservative Party will take a constructive approach to the debate, right-wing political parties, picking up on statements like `burden to Britain' will exploit this and create a lot of fear and uncertainty...\",\n",
       "    'Highlights': [{'BeginOffset': 134, 'EndOffset': 143, 'TopAnswer': False},\n",
       "     {'BeginOffset': 144, 'EndOffset': 151, 'TopAnswer': False}]},\n",
       "   'DocumentURI': 'https://s3.us-west-2.amazonaws.com/politics-text-data/334.txt',\n",
       "   'DocumentAttributes': [{'Key': '_source_uri',\n",
       "     'Value': {'StringValue': 'https://s3.us-west-2.amazonaws.com/politics-text-data/334.txt'}}]},\n",
       "  {'Id': '9d97a18e-3d92-4c47-8a61-1bf0a202e5eb-65e5af89-2d9a-4ce8-a2a4-d7b02eae41d7',\n",
       "   'Type': 'DOCUMENT',\n",
       "   'AdditionalAttributes': [],\n",
       "   'DocumentId': 's3://politics-text-data/293.txt',\n",
       "   'DocumentTitle': {'Text': '293', 'Highlights': []},\n",
       "   'DocumentExcerpt': {'Text': '...Under the present electoral system, people must work together, and small parties have no hope of representation. Last summer, UKIP achieved a major advance, partly and only partly due to Kilroy...',\n",
       "    'Highlights': [{'BeginOffset': 13, 'EndOffset': 20, 'TopAnswer': False},\n",
       "     {'BeginOffset': 76, 'EndOffset': 83, 'TopAnswer': False}]},\n",
       "   'DocumentURI': 'https://s3.us-west-2.amazonaws.com/politics-text-data/293.txt',\n",
       "   'DocumentAttributes': [{'Key': '_source_uri',\n",
       "     'Value': {'StringValue': 'https://s3.us-west-2.amazonaws.com/politics-text-data/293.txt'}}]},\n",
       "  {'Id': '9d97a18e-3d92-4c47-8a61-1bf0a202e5eb-543c03bd-350a-46c8-86e2-bf9a751e36d4',\n",
       "   'Type': 'DOCUMENT',\n",
       "   'AdditionalAttributes': [],\n",
       "   'DocumentId': 's3://politics-text-data/269.txt',\n",
       "   'DocumentTitle': {'Text': '269', 'Highlights': []},\n",
       "   'DocumentExcerpt': {'Text': '...110 pupils for education watchdog Ofsted. Nearly half those pupils polled said it was not important for them to know more about what the political parties stand for...',\n",
       "    'Highlights': [{'BeginOffset': 140, 'EndOffset': 149, 'TopAnswer': False},\n",
       "     {'BeginOffset': 150, 'EndOffset': 157, 'TopAnswer': False}]},\n",
       "   'DocumentURI': 'https://s3.us-west-2.amazonaws.com/politics-text-data/269.txt',\n",
       "   'DocumentAttributes': [{'Key': '_source_uri',\n",
       "     'Value': {'StringValue': 'https://s3.us-west-2.amazonaws.com/politics-text-data/269.txt'}}]},\n",
       "  {'Id': '9d97a18e-3d92-4c47-8a61-1bf0a202e5eb-4033d603-b7ab-4509-a1ce-f9be790dba2d',\n",
       "   'Type': 'DOCUMENT',\n",
       "   'AdditionalAttributes': [],\n",
       "   'DocumentId': 's3://politics-text-data/036.txt',\n",
       "   'DocumentTitle': {'Text': '036', 'Highlights': []},\n",
       "   'DocumentExcerpt': {'Text': '...At home he said many people were turning to the Liberal Democrats as they became disheartened with the politics of the other two main parties.\\n\\nThe general election would be a three-party struggle, as the Conservative party \"fades away\" as a national force and the Liberal Democrats...',\n",
       "    'Highlights': [{'BeginOffset': 137,\n",
       "      'EndOffset': 144,\n",
       "      'TopAnswer': False}]},\n",
       "   'DocumentURI': 'https://s3.us-west-2.amazonaws.com/politics-text-data/036.txt',\n",
       "   'DocumentAttributes': [{'Key': '_source_uri',\n",
       "     'Value': {'StringValue': 'https://s3.us-west-2.amazonaws.com/politics-text-data/036.txt'}}]},\n",
       "  {'Id': '9d97a18e-3d92-4c47-8a61-1bf0a202e5eb-0eb88582-54d3-4450-aaa4-50e6609a7e0e',\n",
       "   'Type': 'DOCUMENT',\n",
       "   'AdditionalAttributes': [],\n",
       "   'DocumentId': 's3://politics-text-data/004.txt',\n",
       "   'DocumentTitle': {'Text': '004', 'Highlights': []},\n",
       "   'DocumentExcerpt': {'Text': '...event. Blackpool will get the much smaller February spring conference instead in what will be seen as a placatory move.\\n\\nFor years the main political parties have rotated between Blackpool, Bournemouth and Brighton. And the news the much larger annual conference is not to gather in Blackpool will...',\n",
       "    'Highlights': [{'BeginOffset': 143, 'EndOffset': 152, 'TopAnswer': False},\n",
       "     {'BeginOffset': 153, 'EndOffset': 160, 'TopAnswer': False}]},\n",
       "   'DocumentURI': 'https://s3.us-west-2.amazonaws.com/politics-text-data/004.txt',\n",
       "   'DocumentAttributes': [{'Key': '_source_uri',\n",
       "     'Value': {'StringValue': 'https://s3.us-west-2.amazonaws.com/politics-text-data/004.txt'}}]},\n",
       "  {'Id': '9d97a18e-3d92-4c47-8a61-1bf0a202e5eb-8643a0c8-6dc2-444f-a8e9-11539ad4ed5d',\n",
       "   'Type': 'DOCUMENT',\n",
       "   'AdditionalAttributes': [],\n",
       "   'DocumentId': 's3://politics-text-data/330.txt',\n",
       "   'DocumentTitle': {'Text': '330', 'Highlights': []},\n",
       "   'DocumentExcerpt': {'Text': '...event. Blackpool will get the much smaller February spring conference instead in what will be seen as a placatory move.\\n\\nFor years the main political parties have rotated between Blackpool, Bournemouth and Brighton. And the news the much larger annual conference is not to gather in Blackpool will...',\n",
       "    'Highlights': [{'BeginOffset': 143, 'EndOffset': 152, 'TopAnswer': False},\n",
       "     {'BeginOffset': 153, 'EndOffset': 160, 'TopAnswer': False}]},\n",
       "   'DocumentURI': 'https://s3.us-west-2.amazonaws.com/politics-text-data/330.txt',\n",
       "   'DocumentAttributes': [{'Key': '_source_uri',\n",
       "     'Value': {'StringValue': 'https://s3.us-west-2.amazonaws.com/politics-text-data/330.txt'}}]},\n",
       "  {'Id': '9d97a18e-3d92-4c47-8a61-1bf0a202e5eb-ebbdb122-7550-4bde-9c12-c03c72fb91b8',\n",
       "   'Type': 'DOCUMENT',\n",
       "   'AdditionalAttributes': [],\n",
       "   'DocumentId': 's3://politics-text-data/088.txt',\n",
       "   'DocumentTitle': {'Text': '088', 'Highlights': []},\n",
       "   'DocumentExcerpt': {'Text': '...do things that are not allowed in the law.\" A spokesman for the Information Commissioner\\'s Office said it would be classed as marketing if political parties telephoned people to encourage them to vote for them. But the rules did allow polling organisations to telephone people about their voting...',\n",
       "    'Highlights': [{'BeginOffset': 142, 'EndOffset': 151, 'TopAnswer': False},\n",
       "     {'BeginOffset': 152, 'EndOffset': 159, 'TopAnswer': False}]},\n",
       "   'DocumentURI': 'https://s3.us-west-2.amazonaws.com/politics-text-data/088.txt',\n",
       "   'DocumentAttributes': [{'Key': '_source_uri',\n",
       "     'Value': {'StringValue': 'https://s3.us-west-2.amazonaws.com/politics-text-data/088.txt'}}]}],\n",
       " 'FacetResults': [],\n",
       " 'TotalNumberOfResults': 268,\n",
       " 'ResponseMetadata': {'RequestId': '7de6dc90-7bd3-48ef-acfb-550890bdbd53',\n",
       "  'HTTPStatusCode': 200,\n",
       "  'HTTPHeaders': {'x-amzn-requestid': '7de6dc90-7bd3-48ef-acfb-550890bdbd53',\n",
       "   'content-type': 'application/x-amz-json-1.1',\n",
       "   'content-length': '9115',\n",
       "   'date': 'Mon, 29 Jun 2020 07:10:51 GMT'},\n",
       "  'RetryAttempts': 0}}"
      ]
     },
     "execution_count": 23,
     "metadata": {},
     "output_type": "execute_result"
    }
   ],
   "source": [
    "query='what are the political parties present?'\n",
    "\n",
    "response=client.query(\n",
    "    IndexId=index_id,\n",
    "    QueryText=query\n",
    ")\n",
    "response"
   ]
  },
  {
   "cell_type": "code",
   "execution_count": 24,
   "metadata": {},
   "outputs": [
    {
     "data": {
      "text/plain": [
       "268"
      ]
     },
     "execution_count": 24,
     "metadata": {},
     "output_type": "execute_result"
    }
   ],
   "source": [
    "response['TotalNumberOfResults']"
   ]
  },
  {
   "cell_type": "code",
   "execution_count": 25,
   "metadata": {},
   "outputs": [
    {
     "name": "stdout",
     "output_type": "stream",
     "text": [
      "\n",
      "Search results for query: what are the political parties present?\n",
      "\n",
      "Title: 334\n",
      "\"My concern is that, whilst the Labour Party and the Conservative Party will take a constructive approach to the debate, right-wing political parties, picking up on statements like `burden to Britain' will exploit this and create a lot of fear and uncertainty\". It is precisely that concern - and the\n"
     ]
    }
   ],
   "source": [
    "print ('\\nSearch results for query: ' + query + '\\n') \n",
    "\n",
    "for query_result in response['ResultItems']:\n",
    "\n",
    "    #print('-------------------')\n",
    "    #print('Type: ' + str(query_result['Type']))\n",
    "        \n",
    "    if query_result['Type']=='ANSWER':\n",
    "        if 'DocumentTitle' in query_result:\n",
    "            document_title = query_result['DocumentTitle']['Text']\n",
    "            print('Title: ' + document_title)\n",
    "        answer_text = query_result['DocumentExcerpt']['Text']\n",
    "        print(answer_text)"
   ]
  },
  {
   "cell_type": "code",
   "execution_count": 26,
   "metadata": {},
   "outputs": [
    {
     "name": "stdout",
     "output_type": "stream",
     "text": [
      "\n",
      "Search results for query: what are the political parties present?\n",
      "\n",
      "Title: 417\n",
      "...Lib Dems unveil election slogan\n",
      "\n",
      "The Liberal Democrats will present themselves as \"the real alternative\" in the forthcoming general election campaign, Charles Kennedy has said.\n",
      "\n",
      "Unveiling the slogan at the party's...\n",
      "************************************************************************************************************************\n",
      "Title: 111\n",
      "...Under the present electoral system, people must work together, and small parties have no hope of representation. Last summer, UKIP achieved a major advance, partly and only partly due to Kilroy...\n",
      "************************************************************************************************************************\n",
      "Title: 334\n",
      "...My concern is that, whilst the Labour Party and the Conservative Party will take a constructive approach to the debate, right-wing political parties, picking up on statements like `burden to Britain' will exploit this and create a lot of fear and uncertainty...\n",
      "************************************************************************************************************************\n",
      "Title: 293\n",
      "...Under the present electoral system, people must work together, and small parties have no hope of representation. Last summer, UKIP achieved a major advance, partly and only partly due to Kilroy...\n",
      "************************************************************************************************************************\n",
      "Title: 269\n",
      "...110 pupils for education watchdog Ofsted. Nearly half those pupils polled said it was not important for them to know more about what the political parties stand for...\n",
      "************************************************************************************************************************\n",
      "Title: 036\n",
      "...At home he said many people were turning to the Liberal Democrats as they became disheartened with the politics of the other two main parties.\n",
      "\n",
      "The general election would be a three-party struggle, as the Conservative party \"fades away\" as a national force and the Liberal Democrats...\n",
      "************************************************************************************************************************\n",
      "Title: 004\n",
      "...event. Blackpool will get the much smaller February spring conference instead in what will be seen as a placatory move.\n",
      "\n",
      "For years the main political parties have rotated between Blackpool, Bournemouth and Brighton. And the news the much larger annual conference is not to gather in Blackpool will...\n",
      "************************************************************************************************************************\n",
      "Title: 330\n",
      "...event. Blackpool will get the much smaller February spring conference instead in what will be seen as a placatory move.\n",
      "\n",
      "For years the main political parties have rotated between Blackpool, Bournemouth and Brighton. And the news the much larger annual conference is not to gather in Blackpool will...\n",
      "************************************************************************************************************************\n",
      "Title: 088\n",
      "...do things that are not allowed in the law.\" A spokesman for the Information Commissioner's Office said it would be classed as marketing if political parties telephoned people to encourage them to vote for them. But the rules did allow polling organisations to telephone people about their voting...\n",
      "************************************************************************************************************************\n"
     ]
    }
   ],
   "source": [
    "print ('\\nSearch results for query: ' + query + '\\n') \n",
    "\n",
    "for query_result in response['ResultItems']:\n",
    "    if query_result['Type']=='DOCUMENT':\n",
    "        if 'DocumentTitle' in query_result:\n",
    "            document_title = query_result['DocumentTitle']['Text']\n",
    "            print('Title: ' + document_title)\n",
    "        document_text = query_result['DocumentExcerpt']['Text']\n",
    "        print(document_text) \n",
    "        print('*'*120)"
   ]
  },
  {
   "cell_type": "code",
   "execution_count": 27,
   "metadata": {},
   "outputs": [
    {
     "name": "stdout",
     "output_type": "stream",
     "text": [
      "\n",
      "Search results for query: what are the political parties present?\n",
      "\n"
     ]
    }
   ],
   "source": [
    "print ('\\nSearch results for query: ' + query + '\\n')\n",
    "\n",
    "for query_result in response['ResultItems']:\n",
    "    if query_result['Type']=='QUESTION_ANSWER':\n",
    "        if 'DocumentTitle' in query_result:\n",
    "            document_title = query_result['DocumentTitle']['Text']\n",
    "            print('Title: ' + document_title)\n",
    "        document_text = query_result['DocumentExcerpt']['Text']\n",
    "        print(document_text)  \n",
    "        print('*'*120)"
   ]
  },
  {
   "cell_type": "markdown",
   "metadata": {},
   "source": [
    "# Query2"
   ]
  },
  {
   "cell_type": "code",
   "execution_count": 28,
   "metadata": {},
   "outputs": [
    {
     "data": {
      "text/plain": [
       "{'QueryId': 'ce6aa13c-807c-4e3d-b970-194e8a0b5974',\n",
       " 'ResultItems': [{'Id': 'ce6aa13c-807c-4e3d-b970-194e8a0b5974-ae8ee7b6-6e8e-42f8-af4e-b5724fe13ffb',\n",
       "   'Type': 'DOCUMENT',\n",
       "   'AdditionalAttributes': [],\n",
       "   'DocumentId': 's3://politics-text-data/396.txt',\n",
       "   'DocumentTitle': {'Text': '396', 'Highlights': []},\n",
       "   'DocumentExcerpt': {'Text': '...to their last known voting intention, ranging from \"Labour (firm)\" to \"target (Conservative)\" - those who supported the party in the past but this time will be voting Tory. The newsletter says: \"Using the information we know about people, we can send them direct mailings...',\n",
       "    'Highlights': []},\n",
       "   'DocumentURI': 'https://s3.us-west-2.amazonaws.com/politics-text-data/396.txt',\n",
       "   'DocumentAttributes': [{'Key': '_source_uri',\n",
       "     'Value': {'StringValue': 'https://s3.us-west-2.amazonaws.com/politics-text-data/396.txt'}}]},\n",
       "  {'Id': 'ce6aa13c-807c-4e3d-b970-194e8a0b5974-752b988b-cf40-4b63-96b1-b1d015b3a8ed',\n",
       "   'Type': 'DOCUMENT',\n",
       "   'AdditionalAttributes': [],\n",
       "   'DocumentId': 's3://politics-text-data/030.txt',\n",
       "   'DocumentTitle': {'Text': '030', 'Highlights': []},\n",
       "   'DocumentExcerpt': {'Text': \"...Labour targets 'hardcore truants'\\n\\nA fresh crackdown on persistent truants in England has been launched by Education Secretary Ruth Kelly.\\n\\nSerial truants make...\",\n",
       "    'Highlights': [{'BeginOffset': 10, 'EndOffset': 17, 'TopAnswer': False}]},\n",
       "   'DocumentURI': 'https://s3.us-west-2.amazonaws.com/politics-text-data/030.txt',\n",
       "   'DocumentAttributes': [{'Key': '_source_uri',\n",
       "     'Value': {'StringValue': 'https://s3.us-west-2.amazonaws.com/politics-text-data/030.txt'}}]},\n",
       "  {'Id': 'ce6aa13c-807c-4e3d-b970-194e8a0b5974-783299d8-ab62-4576-ad1a-c0d38b8624cc',\n",
       "   'Type': 'DOCUMENT',\n",
       "   'AdditionalAttributes': [],\n",
       "   'DocumentId': 's3://politics-text-data/213.txt',\n",
       "   'DocumentTitle': {'Text': '213', 'Highlights': []},\n",
       "   'DocumentExcerpt': {'Text': '...cap on aspiration, closing the door to students with good grades and restricting their life ambitions. \"They are committed to abandoning Labour\\'s targets of getting 50% of 18 to 30-year-olds going into higher education and under Lib Dem plans students would even have to study near home...',\n",
       "    'Highlights': [{'BeginOffset': 149,\n",
       "      'EndOffset': 156,\n",
       "      'TopAnswer': False}]},\n",
       "   'DocumentURI': 'https://s3.us-west-2.amazonaws.com/politics-text-data/213.txt',\n",
       "   'DocumentAttributes': [{'Key': '_source_uri',\n",
       "     'Value': {'StringValue': 'https://s3.us-west-2.amazonaws.com/politics-text-data/213.txt'}}]},\n",
       "  {'Id': 'ce6aa13c-807c-4e3d-b970-194e8a0b5974-bf7f9ff6-90aa-4d0a-b2ec-2046ec9438a8',\n",
       "   'Type': 'DOCUMENT',\n",
       "   'AdditionalAttributes': [],\n",
       "   'DocumentId': 's3://politics-text-data/365.txt',\n",
       "   'DocumentTitle': {'Text': '365', 'Highlights': []},\n",
       "   'DocumentExcerpt': {'Text': '...on target. About 4,300 civil servants will leave London and the South East by the end of March 2005 and there are plans to relocate another 3,500. Of those 300 Department of Health posts will go to Yorkshire while hundreds at the Department of Culture will move to Birmingham and Newcastle...',\n",
       "    'Highlights': []},\n",
       "   'DocumentURI': 'https://s3.us-west-2.amazonaws.com/politics-text-data/365.txt',\n",
       "   'DocumentAttributes': [{'Key': '_source_uri',\n",
       "     'Value': {'StringValue': 'https://s3.us-west-2.amazonaws.com/politics-text-data/365.txt'}}]},\n",
       "  {'Id': 'ce6aa13c-807c-4e3d-b970-194e8a0b5974-5af496cf-f4f1-4edf-8017-f09209dcfa24',\n",
       "   'Type': 'DOCUMENT',\n",
       "   'AdditionalAttributes': [],\n",
       "   'DocumentId': 's3://politics-text-data/335.txt',\n",
       "   'DocumentTitle': {'Text': '335', 'Highlights': []},\n",
       "   'DocumentExcerpt': {'Text': '...to make gains from the Conservatives. Later he will visit places, such as Liverpool, where Labour is targeted. Labour say a Lib Dem vote could \"let the Tories in\", while the Tories say the Lib Dems would mean \"higher taxes, soft crime laws, more power to Europe...',\n",
       "    'Highlights': []},\n",
       "   'DocumentURI': 'https://s3.us-west-2.amazonaws.com/politics-text-data/335.txt',\n",
       "   'DocumentAttributes': [{'Key': '_source_uri',\n",
       "     'Value': {'StringValue': 'https://s3.us-west-2.amazonaws.com/politics-text-data/335.txt'}}]},\n",
       "  {'Id': 'ce6aa13c-807c-4e3d-b970-194e8a0b5974-ae3857cb-f733-45ae-903d-b08a3aa0c1d1',\n",
       "   'Type': 'DOCUMENT',\n",
       "   'AdditionalAttributes': [],\n",
       "   'DocumentId': 's3://politics-text-data/171.txt',\n",
       "   'DocumentTitle': {'Text': '171', 'Highlights': []},\n",
       "   'DocumentExcerpt': {'Text': '...4 and two-fifths of schools at Key Stage 2, met that target. The Tories also claim that of the £750m the prime minister pledged in 2000 to invest on school sports facilities, only £41m had been spent...',\n",
       "    'Highlights': []},\n",
       "   'DocumentURI': 'https://s3.us-west-2.amazonaws.com/politics-text-data/171.txt',\n",
       "   'DocumentAttributes': [{'Key': '_source_uri',\n",
       "     'Value': {'StringValue': 'https://s3.us-west-2.amazonaws.com/politics-text-data/171.txt'}}]},\n",
       "  {'Id': 'ce6aa13c-807c-4e3d-b970-194e8a0b5974-3eba0475-2619-438b-ba36-b5e9964e6655',\n",
       "   'Type': 'DOCUMENT',\n",
       "   'AdditionalAttributes': [],\n",
       "   'DocumentId': 's3://politics-text-data/054.txt',\n",
       "   'DocumentTitle': {'Text': '054', 'Highlights': []},\n",
       "   'DocumentExcerpt': {'Text': '...how they would pay for the plan. The plan forms part of a wider Lib Dems policy to encourage first time buyers and those on lower incomes into the market...',\n",
       "    'Highlights': []},\n",
       "   'DocumentURI': 'https://s3.us-west-2.amazonaws.com/politics-text-data/054.txt',\n",
       "   'DocumentAttributes': [{'Key': '_source_uri',\n",
       "     'Value': {'StringValue': 'https://s3.us-west-2.amazonaws.com/politics-text-data/054.txt'}}]},\n",
       "  {'Id': 'ce6aa13c-807c-4e3d-b970-194e8a0b5974-f5916f72-ebef-439e-be67-235c63b7be90',\n",
       "   'Type': 'DOCUMENT',\n",
       "   'AdditionalAttributes': [],\n",
       "   'DocumentId': 's3://politics-text-data/080.txt',\n",
       "   'DocumentTitle': {'Text': '080', 'Highlights': []},\n",
       "   'DocumentExcerpt': {'Text': '...qualifications by this year. But a target of 1.5 million more by 2010 needed \"creative\" ideas. Some 26 million adults lack maths or English skill levels expected of school-leavers.\\n\\nAccording to the report, \"more than half\" the qualifications achieved were by learners aged 16 to 18...',\n",
       "    'Highlights': []},\n",
       "   'DocumentURI': 'https://s3.us-west-2.amazonaws.com/politics-text-data/080.txt',\n",
       "   'DocumentAttributes': [{'Key': '_source_uri',\n",
       "     'Value': {'StringValue': 'https://s3.us-west-2.amazonaws.com/politics-text-data/080.txt'}}]},\n",
       "  {'Id': 'ce6aa13c-807c-4e3d-b970-194e8a0b5974-80d23833-56d3-4945-8175-dde23e8d0196',\n",
       "   'Type': 'DOCUMENT',\n",
       "   'AdditionalAttributes': [],\n",
       "   'DocumentId': 's3://politics-text-data/121.txt',\n",
       "   'DocumentTitle': {'Text': '121', 'Highlights': []},\n",
       "   'DocumentExcerpt': {'Text': '...or to see a consultant. \"But let us not forget two thirds of those waiting for treatment now are waiting less than six months, and these targets affect the small minority of patients in Wales that are waiting far too long.\" Rhodri Glyn Thomas, Plaid Cymru health spokesman said: \"It\\'s...',\n",
       "    'Highlights': [{'BeginOffset': 140,\n",
       "      'EndOffset': 147,\n",
       "      'TopAnswer': False}]},\n",
       "   'DocumentURI': 'https://s3.us-west-2.amazonaws.com/politics-text-data/121.txt',\n",
       "   'DocumentAttributes': [{'Key': '_source_uri',\n",
       "     'Value': {'StringValue': 'https://s3.us-west-2.amazonaws.com/politics-text-data/121.txt'}}]},\n",
       "  {'Id': 'ce6aa13c-807c-4e3d-b970-194e8a0b5974-c2d765dc-5817-47ee-9cd8-fb60358e668d',\n",
       "   'Type': 'DOCUMENT',\n",
       "   'AdditionalAttributes': [],\n",
       "   'DocumentId': 's3://politics-text-data/379.txt',\n",
       "   'DocumentTitle': {'Text': '379', 'Highlights': []},\n",
       "   'DocumentExcerpt': {'Text': \"...has said.\\n\\nSir Ian Blair said terror groups would remember the effect of the Madrid bomb on Spain's general election last year. Other potential targets were the royal wedding and the UK's presidency of the European Union and G8, he said. He refused to say if there was specific information about...\",\n",
       "    'Highlights': [{'BeginOffset': 147,\n",
       "      'EndOffset': 154,\n",
       "      'TopAnswer': False}]},\n",
       "   'DocumentURI': 'https://s3.us-west-2.amazonaws.com/politics-text-data/379.txt',\n",
       "   'DocumentAttributes': [{'Key': '_source_uri',\n",
       "     'Value': {'StringValue': 'https://s3.us-west-2.amazonaws.com/politics-text-data/379.txt'}}]}],\n",
       " 'FacetResults': [],\n",
       " 'TotalNumberOfResults': 57,\n",
       " 'ResponseMetadata': {'RequestId': '82c64006-6cef-4a4c-bde6-5c1012c51f99',\n",
       "  'HTTPStatusCode': 200,\n",
       "  'HTTPHeaders': {'x-amzn-requestid': '82c64006-6cef-4a4c-bde6-5c1012c51f99',\n",
       "   'content-type': 'application/x-amz-json-1.1',\n",
       "   'content-length': '7665',\n",
       "   'date': 'Mon, 29 Jun 2020 07:13:43 GMT',\n",
       "   'connection': 'close'},\n",
       "  'RetryAttempts': 0}}"
      ]
     },
     "execution_count": 28,
     "metadata": {},
     "output_type": "execute_result"
    }
   ],
   "source": [
    "query='what are the labor targets?' #from doc 30\n",
    "\n",
    "response=client.query(\n",
    "    IndexId=index_id,\n",
    "    QueryText=query\n",
    ")\n",
    "response"
   ]
  },
  {
   "cell_type": "code",
   "execution_count": 29,
   "metadata": {},
   "outputs": [
    {
     "name": "stdout",
     "output_type": "stream",
     "text": [
      "\n",
      "Search results for query: what are the labor targets?\n",
      "\n"
     ]
    }
   ],
   "source": [
    "print ('\\nSearch results for query: ' + query + '\\n') \n",
    "\n",
    "for query_result in response['ResultItems']:\n",
    "\n",
    "    #print('-------------------')\n",
    "    #print('Type: ' + str(query_result['Type']))\n",
    "        \n",
    "    if query_result['Type']=='ANSWER':\n",
    "        if 'DocumentTitle' in query_result:\n",
    "            document_title = query_result['DocumentTitle']['Text']\n",
    "            print('Title: ' + document_title)\n",
    "        answer_text = query_result['DocumentExcerpt']['Text']\n",
    "        print(answer_text)"
   ]
  },
  {
   "cell_type": "code",
   "execution_count": 30,
   "metadata": {},
   "outputs": [
    {
     "name": "stdout",
     "output_type": "stream",
     "text": [
      "\n",
      "Search results for query: what are the labor targets?\n",
      "\n",
      "Title: 396\n",
      "...to their last known voting intention, ranging from \"Labour (firm)\" to \"target (Conservative)\" - those who supported the party in the past but this time will be voting Tory. The newsletter says: \"Using the information we know about people, we can send them direct mailings...\n",
      "************************************************************************************************************************\n",
      "Title: 030\n",
      "...Labour targets 'hardcore truants'\n",
      "\n",
      "A fresh crackdown on persistent truants in England has been launched by Education Secretary Ruth Kelly.\n",
      "\n",
      "Serial truants make...\n",
      "************************************************************************************************************************\n",
      "Title: 213\n",
      "...cap on aspiration, closing the door to students with good grades and restricting their life ambitions. \"They are committed to abandoning Labour's targets of getting 50% of 18 to 30-year-olds going into higher education and under Lib Dem plans students would even have to study near home...\n",
      "************************************************************************************************************************\n",
      "Title: 365\n",
      "...on target. About 4,300 civil servants will leave London and the South East by the end of March 2005 and there are plans to relocate another 3,500. Of those 300 Department of Health posts will go to Yorkshire while hundreds at the Department of Culture will move to Birmingham and Newcastle...\n",
      "************************************************************************************************************************\n",
      "Title: 335\n",
      "...to make gains from the Conservatives. Later he will visit places, such as Liverpool, where Labour is targeted. Labour say a Lib Dem vote could \"let the Tories in\", while the Tories say the Lib Dems would mean \"higher taxes, soft crime laws, more power to Europe...\n",
      "************************************************************************************************************************\n",
      "Title: 171\n",
      "...4 and two-fifths of schools at Key Stage 2, met that target. The Tories also claim that of the £750m the prime minister pledged in 2000 to invest on school sports facilities, only £41m had been spent...\n",
      "************************************************************************************************************************\n",
      "Title: 054\n",
      "...how they would pay for the plan. The plan forms part of a wider Lib Dems policy to encourage first time buyers and those on lower incomes into the market...\n",
      "************************************************************************************************************************\n",
      "Title: 080\n",
      "...qualifications by this year. But a target of 1.5 million more by 2010 needed \"creative\" ideas. Some 26 million adults lack maths or English skill levels expected of school-leavers.\n",
      "\n",
      "According to the report, \"more than half\" the qualifications achieved were by learners aged 16 to 18...\n",
      "************************************************************************************************************************\n",
      "Title: 121\n",
      "...or to see a consultant. \"But let us not forget two thirds of those waiting for treatment now are waiting less than six months, and these targets affect the small minority of patients in Wales that are waiting far too long.\" Rhodri Glyn Thomas, Plaid Cymru health spokesman said: \"It's...\n",
      "************************************************************************************************************************\n",
      "Title: 379\n",
      "...has said.\n",
      "\n",
      "Sir Ian Blair said terror groups would remember the effect of the Madrid bomb on Spain's general election last year. Other potential targets were the royal wedding and the UK's presidency of the European Union and G8, he said. He refused to say if there was specific information about...\n",
      "************************************************************************************************************************\n"
     ]
    }
   ],
   "source": [
    "print ('\\nSearch results for query: ' + query + '\\n') \n",
    "\n",
    "for query_result in response['ResultItems']:\n",
    "    if query_result['Type']=='DOCUMENT':\n",
    "        if 'DocumentTitle' in query_result:\n",
    "            document_title = query_result['DocumentTitle']['Text']\n",
    "            print('Title: ' + document_title)\n",
    "        document_text = query_result['DocumentExcerpt']['Text']\n",
    "        print(document_text) \n",
    "        print('*'*120)"
   ]
  },
  {
   "cell_type": "code",
   "execution_count": 31,
   "metadata": {},
   "outputs": [
    {
     "name": "stdout",
     "output_type": "stream",
     "text": [
      "\n",
      "Search results for query: what are the labor targets?\n",
      "\n"
     ]
    }
   ],
   "source": [
    "print ('\\nSearch results for query: ' + query + '\\n')\n",
    "\n",
    "for query_result in response['ResultItems']:\n",
    "    if query_result['Type']=='QUESTION_ANSWER':\n",
    "        if 'DocumentTitle' in query_result:\n",
    "            document_title = query_result['DocumentTitle']['Text']\n",
    "            print('Title: ' + document_title)\n",
    "        document_text = query_result['DocumentExcerpt']['Text']\n",
    "        print(document_text)  \n",
    "        print('*'*120)"
   ]
  },
  {
   "cell_type": "markdown",
   "metadata": {},
   "source": [
    "# Query3"
   ]
  },
  {
   "cell_type": "code",
   "execution_count": 33,
   "metadata": {},
   "outputs": [
    {
     "data": {
      "text/plain": [
       "{'QueryId': 'e7feb79d-6b1b-4714-b7c9-e7fb42ac28fa',\n",
       " 'ResultItems': [{'Id': 'e7feb79d-6b1b-4714-b7c9-e7fb42ac28fa-85905144-4b7b-4a04-940e-e9a99796d369',\n",
       "   'Type': 'ANSWER',\n",
       "   'AdditionalAttributes': [{'Key': 'AnswerText',\n",
       "     'ValueType': 'TEXT_WITH_HIGHLIGHTS_VALUE',\n",
       "     'Value': {'TextWithHighlightsValue': {'Text': 'Blair rejects Iraq advice calls\\n\\nTony Blair has rejected calls for the publication of advice on the legality of the Iraq war amid growing calls for an investigation.\\n\\nThe prime minister told his monthly press conference the matter had been dealt with by the Attorney General. Earlier, Conservative MP Michael Mates joined calls for a probe into claims Lord Goldsmith\\'s statement to Parliament was drawn up at Number 10. Mr Blair said the statement was a \"fair summary\" of Lord Goldsmith\\'s opinion.\\n\\n\"That\\'s what he (Lord Goldsmith) said and that\\'s what I say.',\n",
       "       'Highlights': [{'BeginOffset': 33,\n",
       "         'EndOffset': 164,\n",
       "         'TopAnswer': False},\n",
       "        {'BeginOffset': 0, 'EndOffset': 164, 'TopAnswer': False},\n",
       "        {'BeginOffset': 63, 'EndOffset': 164, 'TopAnswer': False},\n",
       "        {'BeginOffset': 0, 'EndOffset': 5, 'TopAnswer': False},\n",
       "        {'BeginOffset': 6, 'EndOffset': 13, 'TopAnswer': False},\n",
       "        {'BeginOffset': 14, 'EndOffset': 18, 'TopAnswer': False},\n",
       "        {'BeginOffset': 19, 'EndOffset': 25, 'TopAnswer': False},\n",
       "        {'BeginOffset': 26, 'EndOffset': 31, 'TopAnswer': False},\n",
       "        {'BeginOffset': 38, 'EndOffset': 43, 'TopAnswer': False},\n",
       "        {'BeginOffset': 57, 'EndOffset': 62, 'TopAnswer': False},\n",
       "        {'BeginOffset': 86, 'EndOffset': 92, 'TopAnswer': False},\n",
       "        {'BeginOffset': 116, 'EndOffset': 120, 'TopAnswer': False},\n",
       "        {'BeginOffset': 138, 'EndOffset': 143, 'TopAnswer': False},\n",
       "        {'BeginOffset': 322, 'EndOffset': 327, 'TopAnswer': False},\n",
       "        {'BeginOffset': 423, 'EndOffset': 428, 'TopAnswer': False}]}}}],\n",
       "   'DocumentId': 's3://politics-text-data/184.txt',\n",
       "   'DocumentTitle': {'Text': '184'},\n",
       "   'DocumentExcerpt': {'Text': 'Blair rejects Iraq advice calls\\n\\nTony Blair has rejected calls for the publication of advice on the legality of the Iraq war amid growing calls for an investigation.\\n\\nThe prime minister told his monthly press conference the matter had been dealt with by the Attorney General. Earlier, Conservative MP',\n",
       "    'Highlights': [{'BeginOffset': 0, 'EndOffset': 300, 'TopAnswer': False}]},\n",
       "   'DocumentURI': 'https://s3.us-west-2.amazonaws.com/politics-text-data/184.txt',\n",
       "   'DocumentAttributes': []},\n",
       "  {'Id': 'e7feb79d-6b1b-4714-b7c9-e7fb42ac28fa-6beb8f21-4cae-4082-a82d-4c3c8552d333',\n",
       "   'Type': 'DOCUMENT',\n",
       "   'AdditionalAttributes': [],\n",
       "   'DocumentId': 's3://politics-text-data/184.txt',\n",
       "   'DocumentTitle': {'Text': '184', 'Highlights': []},\n",
       "   'DocumentExcerpt': {'Text': '...Blair rejects Iraq advice calls\\n\\nTony Blair has rejected calls for the publication of advice on the legality of the Iraq war amid growing calls for an investigation.\\n\\nThe...',\n",
       "    'Highlights': [{'BeginOffset': 3, 'EndOffset': 8, 'TopAnswer': False},\n",
       "     {'BeginOffset': 9, 'EndOffset': 16, 'TopAnswer': False},\n",
       "     {'BeginOffset': 17, 'EndOffset': 21, 'TopAnswer': False},\n",
       "     {'BeginOffset': 22, 'EndOffset': 28, 'TopAnswer': False},\n",
       "     {'BeginOffset': 29, 'EndOffset': 34, 'TopAnswer': False},\n",
       "     {'BeginOffset': 41, 'EndOffset': 46, 'TopAnswer': False},\n",
       "     {'BeginOffset': 60, 'EndOffset': 65, 'TopAnswer': False},\n",
       "     {'BeginOffset': 89, 'EndOffset': 95, 'TopAnswer': False},\n",
       "     {'BeginOffset': 119, 'EndOffset': 123, 'TopAnswer': False},\n",
       "     {'BeginOffset': 141, 'EndOffset': 146, 'TopAnswer': False}]},\n",
       "   'DocumentURI': 'https://s3.us-west-2.amazonaws.com/politics-text-data/184.txt',\n",
       "   'DocumentAttributes': [{'Key': '_source_uri',\n",
       "     'Value': {'StringValue': 'https://s3.us-west-2.amazonaws.com/politics-text-data/184.txt'}}]},\n",
       "  {'Id': 'e7feb79d-6b1b-4714-b7c9-e7fb42ac28fa-b32b008a-733c-45f5-9f47-0c47f7175ce7',\n",
       "   'Type': 'DOCUMENT',\n",
       "   'AdditionalAttributes': [],\n",
       "   'DocumentId': 's3://politics-text-data/324.txt',\n",
       "   'DocumentTitle': {'Text': '324', 'Highlights': []},\n",
       "   'DocumentExcerpt': {'Text': '...Iraq advice claim sparks new row\\n\\nThe Tories say ministers must respond in Parliament to claims that the legal advice used to justify the Iraq war was drawn up at Number 10.\\n\\nDowning Street has denied the...',\n",
       "    'Highlights': [{'BeginOffset': 3, 'EndOffset': 7, 'TopAnswer': False},\n",
       "     {'BeginOffset': 8, 'EndOffset': 14, 'TopAnswer': False},\n",
       "     {'BeginOffset': 114, 'EndOffset': 120, 'TopAnswer': False},\n",
       "     {'BeginOffset': 141, 'EndOffset': 145, 'TopAnswer': False}]},\n",
       "   'DocumentURI': 'https://s3.us-west-2.amazonaws.com/politics-text-data/324.txt',\n",
       "   'DocumentAttributes': [{'Key': '_source_uri',\n",
       "     'Value': {'StringValue': 'https://s3.us-west-2.amazonaws.com/politics-text-data/324.txt'}}]},\n",
       "  {'Id': 'e7feb79d-6b1b-4714-b7c9-e7fb42ac28fa-4c423f18-1966-41a4-bb15-098761122477',\n",
       "   'Type': 'DOCUMENT',\n",
       "   'AdditionalAttributes': [],\n",
       "   'DocumentId': 's3://politics-text-data/327.txt',\n",
       "   'DocumentTitle': {'Text': '327', 'Highlights': []},\n",
       "   'DocumentExcerpt': {'Text': '...the Iraq war was drafted by Downing Street officials.\\n\\nLord Goldsmith said Lord Falconer and Baroness Morgan played no part in drafting the answer. He added the answer represented his view that the war was legal, but was not a summary of his advice to the PM. The government has resisted calls to...',\n",
       "    'Highlights': [{'BeginOffset': 7, 'EndOffset': 11, 'TopAnswer': False},\n",
       "     {'BeginOffset': 245, 'EndOffset': 251, 'TopAnswer': False},\n",
       "     {'BeginOffset': 291, 'EndOffset': 296, 'TopAnswer': False}]},\n",
       "   'DocumentURI': 'https://s3.us-west-2.amazonaws.com/politics-text-data/327.txt',\n",
       "   'DocumentAttributes': [{'Key': '_source_uri',\n",
       "     'Value': {'StringValue': 'https://s3.us-west-2.amazonaws.com/politics-text-data/327.txt'}}]},\n",
       "  {'Id': 'e7feb79d-6b1b-4714-b7c9-e7fb42ac28fa-d49c8418-318c-4e90-b8f8-6f71754e633a',\n",
       "   'Type': 'DOCUMENT',\n",
       "   'AdditionalAttributes': [],\n",
       "   'DocumentId': 's3://politics-text-data/328.txt',\n",
       "   'DocumentTitle': {'Text': '328', 'Highlights': []},\n",
       "   'DocumentExcerpt': {'Text': '...The government has resisted calls to publish the full advice, saying such papers are always kept confidential. In the House of Lords, the attorney general faced a call by former Tory lord chancellor Lord Mackay to now publish the \"full text\" of the advice - the suggestion was rejected...',\n",
       "    'Highlights': [{'BeginOffset': 31, 'EndOffset': 36, 'TopAnswer': False},\n",
       "     {'BeginOffset': 57, 'EndOffset': 63, 'TopAnswer': False},\n",
       "     {'BeginOffset': 252, 'EndOffset': 258, 'TopAnswer': False}]},\n",
       "   'DocumentURI': 'https://s3.us-west-2.amazonaws.com/politics-text-data/328.txt',\n",
       "   'DocumentAttributes': [{'Key': '_source_uri',\n",
       "     'Value': {'StringValue': 'https://s3.us-west-2.amazonaws.com/politics-text-data/328.txt'}}]},\n",
       "  {'Id': 'e7feb79d-6b1b-4714-b7c9-e7fb42ac28fa-f1e5c056-9ef6-4156-8489-cc94678a8e06',\n",
       "   'Type': 'DOCUMENT',\n",
       "   'AdditionalAttributes': [],\n",
       "   'DocumentId': 's3://politics-text-data/093.txt',\n",
       "   'DocumentTitle': {'Text': '093', 'Highlights': []},\n",
       "   'DocumentExcerpt': {'Text': \"...Kennedy calls for Iraq exit plans\\n\\nTony Blair should set out a proper exit strategy from Iraq in the wake of next Sunday's elections in the country, Lib Dem leader Charles Kennedy has said.\\n\\nIn a...\",\n",
       "    'Highlights': [{'BeginOffset': 11, 'EndOffset': 16, 'TopAnswer': False},\n",
       "     {'BeginOffset': 21, 'EndOffset': 25, 'TopAnswer': False},\n",
       "     {'BeginOffset': 43, 'EndOffset': 48, 'TopAnswer': False},\n",
       "     {'BeginOffset': 92, 'EndOffset': 96, 'TopAnswer': False}]},\n",
       "   'DocumentURI': 'https://s3.us-west-2.amazonaws.com/politics-text-data/093.txt',\n",
       "   'DocumentAttributes': [{'Key': '_source_uri',\n",
       "     'Value': {'StringValue': 'https://s3.us-west-2.amazonaws.com/politics-text-data/093.txt'}}]},\n",
       "  {'Id': 'e7feb79d-6b1b-4714-b7c9-e7fb42ac28fa-8ca62fe0-9f91-43a8-9b24-a5abf30190fd',\n",
       "   'Type': 'DOCUMENT',\n",
       "   'AdditionalAttributes': [],\n",
       "   'DocumentId': 's3://politics-text-data/353.txt',\n",
       "   'DocumentTitle': {'Text': '353', 'Highlights': []},\n",
       "   'DocumentExcerpt': {'Text': '...Analysis: No pain, no gain?\\n\\nHe called it his \"masochism strategy\" in the run-up to the Iraq war and now Tony Blair has signed up for another dose of pain.\\n\\nThe idea is simple - the prime minister goes head to head with an often hostile group of \"real...',\n",
       "    'Highlights': [{'BeginOffset': 91, 'EndOffset': 95, 'TopAnswer': False},\n",
       "     {'BeginOffset': 113, 'EndOffset': 118, 'TopAnswer': False}]},\n",
       "   'DocumentURI': 'https://s3.us-west-2.amazonaws.com/politics-text-data/353.txt',\n",
       "   'DocumentAttributes': [{'Key': '_source_uri',\n",
       "     'Value': {'StringValue': 'https://s3.us-west-2.amazonaws.com/politics-text-data/353.txt'}}]},\n",
       "  {'Id': 'e7feb79d-6b1b-4714-b7c9-e7fb42ac28fa-92877b1f-fb8a-4130-8d1c-4706abdda0db',\n",
       "   'Type': 'DOCUMENT',\n",
       "   'AdditionalAttributes': [],\n",
       "   'DocumentId': 's3://politics-text-data/126.txt',\n",
       "   'DocumentTitle': {'Text': '126', 'Highlights': []},\n",
       "   'DocumentExcerpt': {'Text': '...The rest of the world should listen,\" the prime minister said in an interview with The Times newspaper, published on Friday. Mr Blair is at a summit in Brussels, where Iraq and European justice and immigration plans are on the agenda. French President Jacques Chirac reacted to his warning by saying...',\n",
       "    'Highlights': [{'BeginOffset': 131, 'EndOffset': 136, 'TopAnswer': False},\n",
       "     {'BeginOffset': 171, 'EndOffset': 175, 'TopAnswer': False}]},\n",
       "   'DocumentURI': 'https://s3.us-west-2.amazonaws.com/politics-text-data/126.txt',\n",
       "   'DocumentAttributes': [{'Key': '_source_uri',\n",
       "     'Value': {'StringValue': 'https://s3.us-west-2.amazonaws.com/politics-text-data/126.txt'}}]},\n",
       "  {'Id': 'e7feb79d-6b1b-4714-b7c9-e7fb42ac28fa-e849cc28-2ede-4a10-a39c-6921bd443292',\n",
       "   'Type': 'DOCUMENT',\n",
       "   'AdditionalAttributes': [],\n",
       "   'DocumentId': 's3://politics-text-data/027.txt',\n",
       "   'DocumentTitle': {'Text': '027', 'Highlights': []},\n",
       "   'DocumentExcerpt': {'Text': '...launches attack on Blair\\n\\nFormer civil service chief Lord Butler has criticised the way Tony Blair\\'s government operates, accusing it of being obsessed with headlines.\\n\\nHe also attacked the way the Iraq war was \"sold\" to the public, with important warnings on the strength of the intelligence left...',\n",
       "    'Highlights': [{'BeginOffset': 22, 'EndOffset': 27, 'TopAnswer': False},\n",
       "     {'BeginOffset': 96, 'EndOffset': 101, 'TopAnswer': False},\n",
       "     {'BeginOffset': 201, 'EndOffset': 205, 'TopAnswer': False}]},\n",
       "   'DocumentURI': 'https://s3.us-west-2.amazonaws.com/politics-text-data/027.txt',\n",
       "   'DocumentAttributes': [{'Key': '_source_uri',\n",
       "     'Value': {'StringValue': 'https://s3.us-west-2.amazonaws.com/politics-text-data/027.txt'}}]},\n",
       "  {'Id': 'e7feb79d-6b1b-4714-b7c9-e7fb42ac28fa-a78f7d20-f6a0-4b99-bc89-0331cf6868f7',\n",
       "   'Type': 'DOCUMENT',\n",
       "   'AdditionalAttributes': [],\n",
       "   'DocumentId': 's3://politics-text-data/253.txt',\n",
       "   'DocumentTitle': {'Text': '253', 'Highlights': []},\n",
       "   'DocumentExcerpt': {'Text': '...serialised in the newspaper, said the pair had \"mutual animosity and contempt\" for each other.\\n\\nIt claims Tony Blair felt by November 2003 he had lost voters\\' trust because of the Iraq war and that he was no longer an asset to the Labour Party...',\n",
       "    'Highlights': [{'BeginOffset': 114, 'EndOffset': 119, 'TopAnswer': False},\n",
       "     {'BeginOffset': 183, 'EndOffset': 187, 'TopAnswer': False}]},\n",
       "   'DocumentURI': 'https://s3.us-west-2.amazonaws.com/politics-text-data/253.txt',\n",
       "   'DocumentAttributes': [{'Key': '_source_uri',\n",
       "     'Value': {'StringValue': 'https://s3.us-west-2.amazonaws.com/politics-text-data/253.txt'}}]}],\n",
       " 'FacetResults': [],\n",
       " 'TotalNumberOfResults': 267,\n",
       " 'ResponseMetadata': {'RequestId': '48abc626-56fb-4efe-9173-0139fc829411',\n",
       "  'HTTPStatusCode': 200,\n",
       "  'HTTPHeaders': {'x-amzn-requestid': '48abc626-56fb-4efe-9173-0139fc829411',\n",
       "   'content-type': 'application/x-amz-json-1.1',\n",
       "   'content-length': '10653',\n",
       "   'date': 'Mon, 29 Jun 2020 07:19:00 GMT'},\n",
       "  'RetryAttempts': 0}}"
      ]
     },
     "execution_count": 33,
     "metadata": {},
     "output_type": "execute_result"
    }
   ],
   "source": [
    "query='why the Blair rejects Iraq advice calls?' #from doc 184\n",
    "\n",
    "response=client.query(\n",
    "    IndexId=index_id,\n",
    "    QueryText=query\n",
    ")\n",
    "response"
   ]
  },
  {
   "cell_type": "code",
   "execution_count": 34,
   "metadata": {},
   "outputs": [
    {
     "name": "stdout",
     "output_type": "stream",
     "text": [
      "\n",
      "Search results for query: why the Blair rejects Iraq advice calls?\n",
      "\n",
      "Title: 184\n",
      "Blair rejects Iraq advice calls\n",
      "\n",
      "Tony Blair has rejected calls for the publication of advice on the legality of the Iraq war amid growing calls for an investigation.\n",
      "\n",
      "The prime minister told his monthly press conference the matter had been dealt with by the Attorney General. Earlier, Conservative MP\n"
     ]
    }
   ],
   "source": [
    "print ('\\nSearch results for query: ' + query + '\\n') \n",
    "\n",
    "for query_result in response['ResultItems']:\n",
    "\n",
    "    #print('-------------------')\n",
    "    #print('Type: ' + str(query_result['Type']))\n",
    "        \n",
    "    if query_result['Type']=='ANSWER':\n",
    "        if 'DocumentTitle' in query_result:\n",
    "            document_title = query_result['DocumentTitle']['Text']\n",
    "            print('Title: ' + document_title)\n",
    "        answer_text = query_result['DocumentExcerpt']['Text']\n",
    "        print(answer_text)"
   ]
  },
  {
   "cell_type": "code",
   "execution_count": 35,
   "metadata": {},
   "outputs": [
    {
     "name": "stdout",
     "output_type": "stream",
     "text": [
      "\n",
      "Search results for query: why the Blair rejects Iraq advice calls?\n",
      "\n",
      "Title: 184\n",
      "...Blair rejects Iraq advice calls\n",
      "\n",
      "Tony Blair has rejected calls for the publication of advice on the legality of the Iraq war amid growing calls for an investigation.\n",
      "\n",
      "The...\n",
      "************************************************************************************************************************\n",
      "Title: 324\n",
      "...Iraq advice claim sparks new row\n",
      "\n",
      "The Tories say ministers must respond in Parliament to claims that the legal advice used to justify the Iraq war was drawn up at Number 10.\n",
      "\n",
      "Downing Street has denied the...\n",
      "************************************************************************************************************************\n",
      "Title: 327\n",
      "...the Iraq war was drafted by Downing Street officials.\n",
      "\n",
      "Lord Goldsmith said Lord Falconer and Baroness Morgan played no part in drafting the answer. He added the answer represented his view that the war was legal, but was not a summary of his advice to the PM. The government has resisted calls to...\n",
      "************************************************************************************************************************\n",
      "Title: 328\n",
      "...The government has resisted calls to publish the full advice, saying such papers are always kept confidential. In the House of Lords, the attorney general faced a call by former Tory lord chancellor Lord Mackay to now publish the \"full text\" of the advice - the suggestion was rejected...\n",
      "************************************************************************************************************************\n",
      "Title: 093\n",
      "...Kennedy calls for Iraq exit plans\n",
      "\n",
      "Tony Blair should set out a proper exit strategy from Iraq in the wake of next Sunday's elections in the country, Lib Dem leader Charles Kennedy has said.\n",
      "\n",
      "In a...\n",
      "************************************************************************************************************************\n",
      "Title: 353\n",
      "...Analysis: No pain, no gain?\n",
      "\n",
      "He called it his \"masochism strategy\" in the run-up to the Iraq war and now Tony Blair has signed up for another dose of pain.\n",
      "\n",
      "The idea is simple - the prime minister goes head to head with an often hostile group of \"real...\n",
      "************************************************************************************************************************\n",
      "Title: 126\n",
      "...The rest of the world should listen,\" the prime minister said in an interview with The Times newspaper, published on Friday. Mr Blair is at a summit in Brussels, where Iraq and European justice and immigration plans are on the agenda. French President Jacques Chirac reacted to his warning by saying...\n",
      "************************************************************************************************************************\n",
      "Title: 027\n",
      "...launches attack on Blair\n",
      "\n",
      "Former civil service chief Lord Butler has criticised the way Tony Blair's government operates, accusing it of being obsessed with headlines.\n",
      "\n",
      "He also attacked the way the Iraq war was \"sold\" to the public, with important warnings on the strength of the intelligence left...\n",
      "************************************************************************************************************************\n",
      "Title: 253\n",
      "...serialised in the newspaper, said the pair had \"mutual animosity and contempt\" for each other.\n",
      "\n",
      "It claims Tony Blair felt by November 2003 he had lost voters' trust because of the Iraq war and that he was no longer an asset to the Labour Party...\n",
      "************************************************************************************************************************\n"
     ]
    }
   ],
   "source": [
    "print ('\\nSearch results for query: ' + query + '\\n') \n",
    "\n",
    "for query_result in response['ResultItems']:\n",
    "    if query_result['Type']=='DOCUMENT':\n",
    "        if 'DocumentTitle' in query_result:\n",
    "            document_title = query_result['DocumentTitle']['Text']\n",
    "            print('Title: ' + document_title)\n",
    "        document_text = query_result['DocumentExcerpt']['Text']\n",
    "        print(document_text) \n",
    "        print('*'*120)"
   ]
  },
  {
   "cell_type": "code",
   "execution_count": 36,
   "metadata": {},
   "outputs": [
    {
     "name": "stdout",
     "output_type": "stream",
     "text": [
      "\n",
      "Search results for query: why the Blair rejects Iraq advice calls?\n",
      "\n"
     ]
    }
   ],
   "source": [
    "print ('\\nSearch results for query: ' + query + '\\n')\n",
    "\n",
    "for query_result in response['ResultItems']:\n",
    "    if query_result['Type']=='QUESTION_ANSWER':\n",
    "        if 'DocumentTitle' in query_result:\n",
    "            document_title = query_result['DocumentTitle']['Text']\n",
    "            print('Title: ' + document_title)\n",
    "        document_text = query_result['DocumentExcerpt']['Text']\n",
    "        print(document_text)  \n",
    "        print('*'*120)"
   ]
  },
  {
   "cell_type": "markdown",
   "metadata": {},
   "source": [
    "###### store the frequent queries to an index"
   ]
  },
  {
   "cell_type": "code",
   "execution_count": 40,
   "metadata": {},
   "outputs": [],
   "source": [
    "frequently_asked_ques_response = client.create_faq(\n",
    "    IndexId=index_id,\n",
    "    Name='frequnently-asked-questions',\n",
    "    Description='most typed queries',\n",
    "    S3Path={\n",
    "        'Bucket': \"frequent-asked-queries\",\n",
    "        'Key':'faqs_for_kendra.csv'\n",
    "    },\n",
    "    RoleArn='arn:aws:iam::353664287185:role/kendra_project2'\n",
    ")"
   ]
  },
  {
   "cell_type": "code",
   "execution_count": 41,
   "metadata": {},
   "outputs": [
    {
     "data": {
      "text/plain": [
       "{'Id': 'a2790014-669b-43fd-8f01-4ee8d6f5404f',\n",
       " 'ResponseMetadata': {'RequestId': '6a210014-ba50-4301-8f63-5480509b1c5d',\n",
       "  'HTTPStatusCode': 200,\n",
       "  'HTTPHeaders': {'x-amzn-requestid': '6a210014-ba50-4301-8f63-5480509b1c5d',\n",
       "   'content-type': 'application/x-amz-json-1.1',\n",
       "   'content-length': '45',\n",
       "   'date': 'Mon, 29 Jun 2020 07:50:48 GMT'},\n",
       "  'RetryAttempts': 1}}"
      ]
     },
     "execution_count": 41,
     "metadata": {},
     "output_type": "execute_result"
    }
   ],
   "source": [
    "frequently_asked_ques_response"
   ]
  },
  {
   "cell_type": "code",
   "execution_count": 42,
   "metadata": {},
   "outputs": [],
   "source": [
    "faq_id=frequently_asked_ques_response['Id']"
   ]
  },
  {
   "cell_type": "markdown",
   "metadata": {},
   "source": [
    "# Deleting all the created resources inorder to control the billing section"
   ]
  },
  {
   "cell_type": "markdown",
   "metadata": {},
   "source": [
    "###### deleting the faq"
   ]
  },
  {
   "cell_type": "code",
   "execution_count": 43,
   "metadata": {},
   "outputs": [],
   "source": [
    "delete_faq_response = client.delete_faq(\n",
    "    Id=faq_id,\n",
    "    IndexId=index_id\n",
    ")"
   ]
  },
  {
   "cell_type": "code",
   "execution_count": 44,
   "metadata": {},
   "outputs": [
    {
     "data": {
      "text/plain": [
       "{'ResponseMetadata': {'RequestId': 'a1efb1e9-1b12-4339-aae5-86f4c778f094',\n",
       "  'HTTPStatusCode': 200,\n",
       "  'HTTPHeaders': {'x-amzn-requestid': 'a1efb1e9-1b12-4339-aae5-86f4c778f094',\n",
       "   'content-type': 'application/x-amz-json-1.1',\n",
       "   'content-length': '0',\n",
       "   'date': 'Mon, 29 Jun 2020 07:54:30 GMT'},\n",
       "  'RetryAttempts': 2}}"
      ]
     },
     "execution_count": 44,
     "metadata": {},
     "output_type": "execute_result"
    }
   ],
   "source": [
    "delete_faq_response"
   ]
  },
  {
   "cell_type": "markdown",
   "metadata": {},
   "source": [
    "##### Deleting the data_sources"
   ]
  },
  {
   "cell_type": "code",
   "execution_count": 45,
   "metadata": {},
   "outputs": [],
   "source": [
    "delete_data_source_response = client.delete_data_source(\n",
    "    Id=data_source_id,\n",
    "    IndexId=index_id\n",
    ")"
   ]
  },
  {
   "cell_type": "code",
   "execution_count": 46,
   "metadata": {},
   "outputs": [
    {
     "data": {
      "text/plain": [
       "{'ResponseMetadata': {'RequestId': '8e101c93-d7f3-419d-ad1a-7793f6e55a53',\n",
       "  'HTTPStatusCode': 200,\n",
       "  'HTTPHeaders': {'x-amzn-requestid': '8e101c93-d7f3-419d-ad1a-7793f6e55a53',\n",
       "   'content-type': 'application/x-amz-json-1.1',\n",
       "   'content-length': '0',\n",
       "   'date': 'Mon, 29 Jun 2020 07:54:34 GMT'},\n",
       "  'RetryAttempts': 0}}"
      ]
     },
     "execution_count": 46,
     "metadata": {},
     "output_type": "execute_result"
    }
   ],
   "source": [
    "delete_data_source_response"
   ]
  },
  {
   "cell_type": "markdown",
   "metadata": {},
   "source": [
    "###### Deleting the index"
   ]
  },
  {
   "cell_type": "code",
   "execution_count": 47,
   "metadata": {},
   "outputs": [],
   "source": [
    "index_delete_response = client.delete_index(\n",
    "    Id=index_id\n",
    ")"
   ]
  },
  {
   "cell_type": "code",
   "execution_count": 48,
   "metadata": {},
   "outputs": [
    {
     "data": {
      "text/plain": [
       "{'ResponseMetadata': {'RequestId': '467b81e3-35a9-451f-9a2f-63dd693638df',\n",
       "  'HTTPStatusCode': 200,\n",
       "  'HTTPHeaders': {'x-amzn-requestid': '467b81e3-35a9-451f-9a2f-63dd693638df',\n",
       "   'content-type': 'application/x-amz-json-1.1',\n",
       "   'content-length': '0',\n",
       "   'date': 'Mon, 29 Jun 2020 07:54:38 GMT'},\n",
       "  'RetryAttempts': 0}}"
      ]
     },
     "execution_count": 48,
     "metadata": {},
     "output_type": "execute_result"
    }
   ],
   "source": [
    "index_delete_response"
   ]
  },
  {
   "cell_type": "code",
   "execution_count": null,
   "metadata": {},
   "outputs": [],
   "source": []
  }
 ],
 "metadata": {
  "kernelspec": {
   "display_name": "Python 3.7.7 64-bit ('base': conda)",
   "language": "python",
   "name": "python37764bitbasecondadc1228af172644c3be0fa195fdd3762b"
  },
  "language_info": {
   "codemirror_mode": {
    "name": "ipython",
    "version": 3
   },
   "file_extension": ".py",
   "mimetype": "text/x-python",
   "name": "python",
   "nbconvert_exporter": "python",
   "pygments_lexer": "ipython3",
   "version": "3.7.6"
  }
 },
 "nbformat": 4,
 "nbformat_minor": 4
}
